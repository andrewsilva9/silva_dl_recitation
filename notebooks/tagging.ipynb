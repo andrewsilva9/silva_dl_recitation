{
 "cells": [
  {
   "cell_type": "code",
   "execution_count": 1,
   "id": "b88649f0",
   "metadata": {},
   "outputs": [],
   "source": [
    "import sys\n",
    "sys.path.insert(0, '../')\n",
    "from models.lstm_network import LSTMNet, train_loop, val_loop\n",
    "from data.data_utils import get_vocabulary, get_unique_labels, get_words_and_labels, split_dataset,\\\n",
    "    word_to_index, word_to_gensim, label_to_index\n",
    "import torch\n",
    "import matplotlib.pyplot as plt\n"
   ]
  },
  {
   "cell_type": "code",
   "execution_count": 2,
   "id": "1687c681",
   "metadata": {},
   "outputs": [],
   "source": [
    "DEVICE = torch.device(\"cuda\") if torch.cuda.is_available() else torch.device(\"cpu\")\n",
    "BATCH_SIZE = 8\n",
    "SEQ_LEN = 32\n",
    "NUM_EPOCHS = 15\n",
    "PRE_TRAINED = False\n",
    "BIDIRECTIONAL = True\n",
    "hidden_dim = 64\n",
    "num_layers = 2\n",
    "embed_dim = 100"
   ]
  }
 ],
 "metadata": {
  "kernelspec": {
   "display_name": "Python 3",
   "language": "python",
   "name": "python3"
  },
  "language_info": {
   "codemirror_mode": {
    "name": "ipython",
    "version": 3
   },
   "file_extension": ".py",
   "mimetype": "text/x-python",
   "name": "python",
   "nbconvert_exporter": "python",
   "pygments_lexer": "ipython3",
   "version": "3.6.9"
  }
 },
 "nbformat": 4,
 "nbformat_minor": 5
}
